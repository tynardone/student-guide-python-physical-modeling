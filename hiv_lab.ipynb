{
 "cells": [
  {
   "cell_type": "markdown",
   "metadata": {},
   "source": [
    "# First Computer Lab\n",
    "\n",
    "These exercises will use many ideas from the previous chapter. Our goals are to:\n",
    "<li> Develop basic graphing skills\n",
    "<li> Import a data set\n",
    "<li> Perform a simple fit of a model to data\n",
    "\n",
    "We explore a model of viral load - the number of virions in the blood of patient infected with HIV - after the administration of an antiretroviral drug.\n",
    "\n",
    "V(t) = Aexp(-$\\alpha$ t) + B(-$\\beta$ t)\n",
    "\n"
   ]
  },
  {
   "cell_type": "code",
   "execution_count": 1,
   "metadata": {},
   "outputs": [],
   "source": [
    "import numpy as np\n",
    "import matplotlib.pyplot as plt"
   ]
  },
  {
   "cell_type": "code",
   "execution_count": 2,
   "metadata": {},
   "outputs": [],
   "source": [
    "time = np.linspace(0, 1, 11)\n",
    "\n",
    "# Setting parameters \n",
    "A = 0\n",
    "alpha = 0\n",
    "B = 0\n",
    "beta = 0"
   ]
  },
  {
   "cell_type": "code",
   "execution_count": 11,
   "metadata": {},
   "outputs": [],
   "source": [
    "def viral_load(A, alpha, B, beta, time):\n",
    "    v = A * np.exp(-alpha * time) + B * np.exp(-beta * time)\n",
    "    assert v.size == time.size\n",
    "    plt.plot(time, v)\n"
   ]
  },
  {
   "cell_type": "code",
   "execution_count": 12,
   "metadata": {},
   "outputs": [
    {
     "data": {
      "image/png": "[encoded data removed]",
      "text/plain": [
       "<Figure size 432x288 with 1 Axes>"
      ]
     },
     "metadata": {
      "needs_background": "light"
     },
     "output_type": "display_data"
    }
   ],
   "source": [
    "viral_load0 = viral_load(0, 0, 0, 0, time)\n"
   ]
  },
  {
   "cell_type": "code",
   "execution_count": 13,
   "metadata": {},
   "outputs": [
    {
     "data": {
      "image/png": "[encoded data removed]",
      "text/plain": [
       "<Figure size 432x288 with 1 Axes>"
      ]
     },
     "metadata": {
      "needs_background": "light"
     },
     "output_type": "display_data"
    }
   ],
   "source": [
    "viral_load_1 = viral_load(20, 3, 40, 6, time)\n"
   ]
  },
  {
   "cell_type": "code",
   "execution_count": 17,
   "metadata": {},
   "outputs": [
    {
     "data": {
      "image/png": "[encoded data removed]",
      "text/plain": [
       "<Figure size 432x288 with 1 Axes>"
      ]
     },
     "metadata": {
      "needs_background": "light"
     },
     "output_type": "display_data"
    }
   ],
   "source": [
    "viral_load_2 = viral_load(3, 10, 4, 50, time)"
   ]
  },
  {
   "cell_type": "code",
   "execution_count": 24,
   "metadata": {},
   "outputs": [
    {
     "data": {
      "text/plain": [
       "array([[0.0000e+00, 1.0610e+05],\n",
       "       [8.3100e-02, 9.3240e+04],\n",
       "       [1.4650e-01, 1.6672e+05],\n",
       "       [2.5870e-01, 1.5378e+05],\n",
       "       [4.8280e-01, 1.1880e+05],\n",
       "       [7.4480e-01, 1.1690e+05],\n",
       "       [9.8170e-01, 1.0957e+05],\n",
       "       [1.2563e+00, 1.1135e+05],\n",
       "       [1.4926e+00, 7.4388e+04],\n",
       "       [1.7299e+00, 8.3291e+04],\n",
       "       [1.9915e+00, 6.6435e+04],\n",
       "       [3.0011e+00, 3.5408e+04],\n",
       "       [4.0109e+00, 2.1125e+04],\n",
       "       [5.0090e+00, 2.0450e+04],\n",
       "       [5.9943e+00, 1.5798e+04],\n",
       "       [7.0028e+00, 4.7852e+03]])"
      ]
     },
     "execution_count": 24,
     "metadata": {},
     "output_type": "execute_result"
    }
   ],
   "source": [
    "# Loading HIV data\n",
    "# HIV infection time course. The first column is the time in days since administration of a treatment\n",
    "# to an HIV positive patient. The second column contains the concentration of virus in that patient’s blood\n",
    "\n",
    "hiv_series = np.load('pmls-data/01-HIVseries/HIVseries.npy')\n",
    "hiv_series\n",
    "\n"
   ]
  },
  {
   "cell_type": "code",
   "execution_count": 19,
   "metadata": {},
   "outputs": [
    {
     "data": {
      "text/plain": [
       "<numpy.lib.npyio.NpzFile at 0x122477430>"
      ]
     },
     "execution_count": 19,
     "metadata": {},
     "output_type": "execute_result"
    }
   ],
   "source": [
    "# Need to seperate the data in hiv_series into two arrays to pass to plt.plot\n"
   ]
  },
  {
   "cell_type": "code",
   "execution_count": null,
   "metadata": {},
   "outputs": [],
   "source": []
  }
 ],
 "metadata": {
  "interpreter": {
   "hash": "36473336a10bcb4b44da22ac5683abfac2168bbb56f07d4618f9759a87dad283"
  },
  "kernelspec": {
   "display_name": "Python 3.10.4 64-bit ('student_guide_python_physical_modeling')",
   "language": "python",
   "name": "python3"
  },
  "language_info": {
   "codemirror_mode": {
    "name": "ipython",
    "version": 3
   },
   "file_extension": ".py",
   "mimetype": "text/x-python",
   "name": "python",
   "nbconvert_exporter": "python",
   "pygments_lexer": "ipython3",
   "version": "3.10.4"
  },
  "orig_nbformat": 4
 },
 "nbformat": 4,
 "nbformat_minor": 2
}
