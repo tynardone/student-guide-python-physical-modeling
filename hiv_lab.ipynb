{
 "cells": [
  {
   "cell_type": "markdown",
   "metadata": {},
   "source": [
    "# First Computer Lab\n",
    "\n",
    "These exercises will use many ideas from the previous chapter. Our goals are to:\n",
    "<li> Develop basic graphing skills\n",
    "<li> Import a data set\n",
    "<li> Perform a simple fit of a model to data\n",
    "\n",
    "We explore a model of viral load - the number of virions in the blood of patient infected with HIV - after the administration of an antiretroviral drug.\n",
    "\n",
    "V(t) = Aexp(-$\\alpha$ t) + B(-$\\beta$ t)\n",
    "\n"
   ]
  },
  {
   "cell_type": "code",
   "execution_count": 1,
   "metadata": {},
   "outputs": [],
   "source": [
    "import numpy as np"
   ]
  },
  {
   "cell_type": "code",
   "execution_count": 14,
   "metadata": {},
   "outputs": [],
   "source": [
    "time = np.linspace(0, 1, 11)\n",
    "\n",
    "# Setting parameters \n",
    "A = 0\n",
    "alpha = 0\n",
    "B = 0\n",
    "beta = 0"
   ]
  },
  {
   "cell_type": "code",
   "execution_count": 15,
   "metadata": {},
   "outputs": [],
   "source": [
    "viral_load = A * np.exp(-alpha * time) + B * np.exp(-beta * time) # Defining our model\n",
    "\n",
    "assert viral_load.size == time.size"
   ]
  },
  {
   "cell_type": "code",
   "execution_count": null,
   "metadata": {},
   "outputs": [],
   "source": []
  }
 ],
 "metadata": {
  "interpreter": {
   "hash": "36473336a10bcb4b44da22ac5683abfac2168bbb56f07d4618f9759a87dad283"
  },
  "kernelspec": {
   "display_name": "Python 3.10.4 64-bit ('student_guide_python_physical_modeling')",
   "language": "python",
   "name": "python3"
  },
  "language_info": {
   "codemirror_mode": {
    "name": "ipython",
    "version": 3
   },
   "file_extension": ".py",
   "mimetype": "text/x-python",
   "name": "python",
   "nbconvert_exporter": "python",
   "pygments_lexer": "ipython3",
   "version": "3.10.4"
  },
  "orig_nbformat": 4
 },
 "nbformat": 4,
 "nbformat_minor": 2
}
