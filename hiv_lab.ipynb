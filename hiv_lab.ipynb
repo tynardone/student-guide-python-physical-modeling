{
 "cells": [
  {
   "cell_type": "markdown",
   "metadata": {},
   "source": [
    "# First Computer Lab\n",
    "Here we explore a model of the viral load after the administration of an antiretroviral drug."
   ]
  },
  {
   "cell_type": "code",
   "execution_count": 1,
   "metadata": {},
   "outputs": [],
   "source": [
    "import numpy as np \n",
    "import matplotlib.pyplot as plt"
   ]
  },
  {
   "cell_type": "code",
   "execution_count": 9,
   "metadata": {},
   "outputs": [],
   "source": [
    "time = np.linspace(0, 1, 11)\n",
    "A  = 0\n",
    "alpha = 0\n",
    "B = 0\n",
    "beta = 0\n",
    "viral_load = A + np.exp(-alpha*time) + B*np.exp(-beta*time)"
   ]
  },
  {
   "cell_type": "code",
   "execution_count": null,
   "metadata": {},
   "outputs": [],
   "source": []
  }
 ],
 "metadata": {
  "interpreter": {
   "hash": "36473336a10bcb4b44da22ac5683abfac2168bbb56f07d4618f9759a87dad283"
  },
  "kernelspec": {
   "display_name": "Python 3.10.4 64-bit ('student_guide_python_physical_modeling')",
   "language": "python",
   "name": "python3"
  },
  "language_info": {
   "codemirror_mode": {
    "name": "ipython",
    "version": 3
   },
   "file_extension": ".py",
   "mimetype": "text/x-python",
   "name": "python",
   "nbconvert_exporter": "python",
   "pygments_lexer": "ipython3",
   "version": "3.10.4"
  },
  "orig_nbformat": 4
 },
 "nbformat": 4,
 "nbformat_minor": 2
}
