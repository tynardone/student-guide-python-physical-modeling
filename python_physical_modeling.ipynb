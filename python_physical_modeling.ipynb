{
 "cells": [
  {
   "cell_type": "markdown",
   "metadata": {},
   "source": [
    "# A Student's Guide to Python for Physical Modeling\n",
    "## By: Jesse M. Kinder & Philip Nelson\n",
    "\n"
   ]
  },
  {
   "cell_type": "markdown",
   "metadata": {},
   "source": [
    "### Ways to get help in python:\n",
    "help(function)\n",
    "\n",
    "module/function/variable? - IPython specific\n",
    "\n",
    "dir(...) <br>\n",
    "dir(\\__builtin__) \n",
    "\n",
    "Any time you solve a problem while coding (or a friend helps you out) make a note in a notebook or on a dedicated file on your computer. Will make looking back over your code easier. "
   ]
  },
  {
   "cell_type": "code",
   "execution_count": 1,
   "metadata": {},
   "outputs": [],
   "source": [
    "import os \n",
    "import sys"
   ]
  },
  {
   "cell_type": "code",
   "execution_count": 2,
   "metadata": {},
   "outputs": [],
   "source": [
    "import numpy as np"
   ]
  },
  {
   "cell_type": "code",
   "execution_count": 3,
   "metadata": {},
   "outputs": [
    {
     "data": {
      "text/plain": [
       "['/Users/tylernardone/Projects/student_guide_python_physical_modeling',\n",
       " '/Users/tylernardone/.vscode/extensions/ms-toolsai.jupyter-2022.4.1021342353/pythonFiles',\n",
       " '/Users/tylernardone/.vscode/extensions/ms-toolsai.jupyter-2022.4.1021342353/pythonFiles/lib/python',\n",
       " '/Users/tylernardone/.pyenv/versions/3.10.4/lib/python310.zip',\n",
       " '/Users/tylernardone/.pyenv/versions/3.10.4/lib/python3.10',\n",
       " '/Users/tylernardone/.pyenv/versions/3.10.4/lib/python3.10/lib-dynload',\n",
       " '',\n",
       " '/Users/tylernardone/.pyenv/versions/3.10.4/envs/student_guide_python_physical_modeling/lib/python3.10/site-packages']"
      ]
     },
     "execution_count": 3,
     "metadata": {},
     "output_type": "execute_result"
    }
   ],
   "source": [
    "import sys\n",
    "sys.path"
   ]
  },
  {
   "cell_type": "code",
   "execution_count": 4,
   "metadata": {},
   "outputs": [],
   "source": [
    "import sys"
   ]
  },
  {
   "cell_type": "code",
   "execution_count": 6,
   "metadata": {},
   "outputs": [],
   "source": [
    "import numpy as np"
   ]
  },
  {
   "cell_type": "code",
   "execution_count": null,
   "metadata": {},
   "outputs": [],
   "source": []
  }
 ],
 "metadata": {
  "interpreter": {
   "hash": "36473336a10bcb4b44da22ac5683abfac2168bbb56f07d4618f9759a87dad283"
  },
  "kernelspec": {
   "display_name": "Python 3.10.4 64-bit ('student_guide_python_physical_modeling')",
   "language": "python",
   "name": "python3"
  },
  "language_info": {
   "codemirror_mode": {
    "name": "ipython",
    "version": 3
   },
   "file_extension": ".py",
   "mimetype": "text/x-python",
   "name": "python",
   "nbconvert_exporter": "python",
   "pygments_lexer": "ipython3",
   "version": "3.10.4"
  },
  "orig_nbformat": 4
 },
 "nbformat": 4,
 "nbformat_minor": 2
}
