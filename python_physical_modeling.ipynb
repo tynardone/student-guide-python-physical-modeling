{
 "cells": [
  {
   "cell_type": "markdown",
   "metadata": {},
   "source": [
    "# A Student's Guide to Python for Physical Modeling\n",
    "## By: Jesse M. Kinder & Philip Nelson\n",
    "\n"
   ]
  },
  {
   "cell_type": "markdown",
   "metadata": {},
   "source": [
    "### Ways to get help in python:\n",
    "help(function)\n",
    "\n",
    "module/function/variable? - IPython specific\n",
    "\n",
    "dir(...) <br>\n",
    "dir(\\__builtin__) \n",
    "\n",
    "Any time you solve a problem while coding (or a friend helps you out) make a note in a notebook or on a dedicated file on your computer. Will make looking back over your code easier. "
   ]
  },
  {
   "cell_type": "code",
   "execution_count": 3,
   "metadata": {},
   "outputs": [],
   "source": [
    "import os \n",
    "import sys\n"
   ]
  },
  {
   "cell_type": "code",
   "execution_count": 11,
   "metadata": {},
   "outputs": [
    {
     "ename": "SyntaxError",
     "evalue": "invalid syntax (1005326789.py, line 1)",
     "output_type": "error",
     "traceback": [
      "\u001b[0;36m  Input \u001b[0;32mIn [11]\u001b[0;36m\u001b[0m\n\u001b[0;31m    sys.\u001b[0m\n\u001b[0m        ^\u001b[0m\n\u001b[0;31mSyntaxError\u001b[0m\u001b[0;31m:\u001b[0m invalid syntax\n"
     ]
    }
   ],
   "source": [
    "sys."
   ]
  },
  {
   "cell_type": "code",
   "execution_count": null,
   "metadata": {},
   "outputs": [],
   "source": []
  }
 ],
 "metadata": {
  "interpreter": {
   "hash": "d01eb7b28db8cd16d553d96a3b5a16fc72c0c8283c66f547b5e5219dc27acfc7"
  },
  "kernelspec": {
   "display_name": "Python 3.10.4 64-bit ('auto_tagleaf_env')",
   "language": "python",
   "name": "python3"
  },
  "language_info": {
   "codemirror_mode": {
    "name": "ipython",
    "version": 3
   },
   "file_extension": ".py",
   "mimetype": "text/x-python",
   "name": "python",
   "nbconvert_exporter": "python",
   "pygments_lexer": "ipython3",
   "version": "3.10.4"
  },
  "orig_nbformat": 4
 },
 "nbformat": 4,
 "nbformat_minor": 2
}
