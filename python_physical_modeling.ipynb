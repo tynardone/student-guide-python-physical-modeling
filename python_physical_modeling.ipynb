{
 "cells": [
  {
   "cell_type": "markdown",
   "metadata": {},
   "source": [
    "# A Student's Guide to Python for Physical Modeling\n",
    "## By: Jesse M. Kinder & Philip Nelson\n",
    "\n"
   ]
  },
  {
   "cell_type": "code",
   "execution_count": null,
   "metadata": {},
   "outputs": [],
   "source": []
  }
 ],
 "metadata": {
  "interpreter": {
   "hash": "36473336a10bcb4b44da22ac5683abfac2168bbb56f07d4618f9759a87dad283"
  },
  "kernelspec": {
   "display_name": "Python 3.10.4 64-bit ('student_guide_python_physical_modeling')",
   "language": "python",
   "name": "python3"
  },
  "language_info": {
   "codemirror_mode": {
    "name": "ipython",
    "version": 3
   },
   "file_extension": ".py",
   "mimetype": "text/x-python",
   "name": "python",
   "nbconvert_exporter": "python",
   "pygments_lexer": "ipython3",
   "version": "3.10.4"
  },
  "orig_nbformat": 4
 },
 "nbformat": 4,
 "nbformat_minor": 2
}
